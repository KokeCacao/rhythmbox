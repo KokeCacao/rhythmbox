{
 "cells": [
  {
   "cell_type": "code",
   "execution_count": 1,
   "metadata": {},
   "outputs": [],
   "source": [
    "import re\n",
    "from tqdm import tqdm\n",
    "\n",
    "playlist_dir = \"/home/koke_cacao/.local/share/rhythmbox/playlists.xml\"\n",
    "db_dir = \"/home/koke_cacao/.local/share/rhythmbox/rhythmdb.xml\"\n",
    "playlist_texts = None\n",
    "\n",
    "def property_regexp(name):\n",
    "    # find property\n",
    "    # find name in <playlist name=\"dev\" show-browser=\"false\" search-type=\"search-match\" type=\"static\">\n",
    "    return r\"(?<= {}=\\\")\\w*(?=\\\"( |>))\".format(name)\n",
    "\n",
    "def surounding_regexp(name):\n",
    "    # find one line surounding\n",
    "    # <location>file:xxx.mp4</location>\n",
    "    return r\"(?<=<{}>).*(?=<\\/{}>)\".format(name, name)\n",
    "\n",
    "def block_regexp(name):\n",
    "    return r\"<{}.*>[\\s\\S]*?<\\/{}>\".format(name, name)"
   ]
  },
  {
   "cell_type": "code",
   "execution_count": 2,
   "metadata": {},
   "outputs": [],
   "source": [
    "# read playlist\n",
    "\n",
    "def location_list(file):\n",
    "    d = dict()\n",
    "    \n",
    "    with open(file, \"r\") as f:\n",
    "        text = f.read()\n",
    "        # find all static playlist\n",
    "        playlist_texts = re.findall(r\"<playlist name=\\\".*\\\".*?type=\\\"static\\\">\\n    <location>[\\s\\S]*?<\\/playlist>\\n\", text)\n",
    "\n",
    "    for playlist_text in tqdm(playlist_texts):\n",
    "        lines = playlist_text.split(\"\\n\")\n",
    "        name = re.search(property_regexp(\"name\"), lines[0]).group()\n",
    "        print(\"\\nthrow away the following lines in {}:\".format(name))\n",
    "        print(\"- {}\".format(lines[0]))\n",
    "        print(\"- {}\".format(lines[-1]))\n",
    "        print(\"- {}\".format(lines[-2]))\n",
    "        lines = lines[1:-2]\n",
    "        lines = [re.search(surounding_regexp(\"location\"), l).group() for l in lines if re.search(surounding_regexp(\"location\"), l)]\n",
    "        d[name] = lines\n",
    "    print(\"\\ndetected playlist: {}\".format(d.keys()))\n",
    "    return d\n",
    "\n",
    "\n",
    "def location_list_to_song_list(db, location_list):\n",
    "    song_dict = dict()\n",
    "    \n",
    "    def map_playlist_to_songs(db, playlist):\n",
    "        def f(entry):\n",
    "            for song in db:\n",
    "                if song.location == entry: return song\n",
    "            raise Exception(\"no such song in db\")\n",
    "        return list(map(f, playlist))\n",
    "\n",
    "    for key, value in location_list.items():\n",
    "        song_dict[key] = map_playlist_to_songs(db, value)\n",
    "    return song_dict"
   ]
  },
  {
   "cell_type": "code",
   "execution_count": 3,
   "metadata": {},
   "outputs": [],
   "source": [
    "# read playlist template\n",
    "\n",
    "def template(file):\n",
    "    \"\"\"\n",
    "    ENSURES: template(file) => (a, b) where\n",
    "             a+[playlists]+b can be a good playlist file\n",
    "    \"\"\"\n",
    "    r = None\n",
    "    with open(file, \"r\") as f:\n",
    "        regex = re.compile(r\"<playlist name=\\\".*\\\".*?type=\\\"static\\\">\\n    <location>[\\s\\S]*?<\\/playlist>\\n\")\n",
    "        r = regex.sub(\"[REPLACED]\\n\", f.read())\n",
    "    r = r.split(\"[REPLACED]\\n\")\n",
    "    return (r[0], r[-1])"
   ]
  },
  {
   "cell_type": "code",
   "execution_count": 4,
   "metadata": {},
   "outputs": [],
   "source": [
    "# Read song database\n",
    "\n",
    "class Song:\n",
    "    def __init__(self, title, genre=None,\n",
    "                 artist=None, album=None,\n",
    "                 duration=None, file_size=None,\n",
    "                 location=None, mtime=None,\n",
    "                 first_seen=None, last_seen=None,\n",
    "                 rating=None, play_count=None,\n",
    "                 last_played=None, date=None,\n",
    "                 media_type=None, composer=None):\n",
    "        self.title = title\n",
    "        self.genre = genre\n",
    "        self.artist = artist\n",
    "        self.album = album\n",
    "        self.duration = duration\n",
    "        self.file_size = file_size\n",
    "        self.location = location\n",
    "        self.mtime = mtime\n",
    "        self.first_seen = first_seen\n",
    "        self.last_seen = last_seen\n",
    "        self.rating = rating\n",
    "        self.play_count = play_count\n",
    "        self.last_played = last_played\n",
    "        self.date = date\n",
    "        self.media_type = media_type\n",
    "        self.composer = composer\n",
    "    def __repr__(self):\n",
    "        return \"{}: {}-{}\\n\".format(self.title, self.location, self.genre)\n",
    "        \n",
    "def song_db(file):\n",
    "    l = []\n",
    "    \n",
    "    with open(file, \"r\") as f:\n",
    "        text = f.read()\n",
    "        db_texts = re.findall(block_regexp(\"entry\"), text)\n",
    "        print(len(db_texts))\n",
    "        \n",
    "        for db_text in tqdm(db_texts):\n",
    "            d = dict()\n",
    "            properties = [\"title\", \"genre\",\n",
    "                      \"artist\", \"album\",\n",
    "                      \"duration\", \"file-size\",\n",
    "                      \"location\", \"mtime\",\n",
    "                      \"first-seen\", \"last-seen\",\n",
    "                      \"rating\", \"play-count\",\n",
    "                      \"last-played\", \"date\",\n",
    "                      \"media-type\", \"composer\"]\n",
    "            for p in properties:\n",
    "                if re.search(surounding_regexp(p), db_text):\n",
    "                    d[p.replace(\"-\", \"_\")] = re.search(surounding_regexp(p), db_text).group()\n",
    "                \n",
    "            song = Song(**d)\n",
    "            l.append(song)\n",
    "    print(\"\\nwe got {} songs\".format(len(l)))\n",
    "    return l"
   ]
  },
  {
   "cell_type": "code",
   "execution_count": 5,
   "metadata": {},
   "outputs": [
    {
     "name": "stderr",
     "output_type": "stream",
     "text": [
      "100%|██████████| 2/2 [00:00<00:00, 176.41it/s]\n",
      " 19%|█▊        | 336/1795 [00:00<00:00, 3358.26it/s]"
     ]
    },
    {
     "name": "stdout",
     "output_type": "stream",
     "text": [
      "\n",
      "throw away the following lines in dev:\n",
      "- <playlist name=\"dev\" show-browser=\"false\" browser-position=\"1045\" search-type=\"search-match\" type=\"static\">\n",
      "- \n",
      "-   </playlist>\n",
      "\n",
      "throw away the following lines in master:\n",
      "- <playlist name=\"master\" show-browser=\"false\" browser-position=\"509\" search-type=\"search-match\" type=\"static\">\n",
      "- \n",
      "-   </playlist>\n",
      "\n",
      "detected playlist: dict_keys(['dev', 'master'])\n",
      "1795\n"
     ]
    },
    {
     "name": "stderr",
     "output_type": "stream",
     "text": [
      "100%|██████████| 1795/1795 [00:00<00:00, 4402.67it/s]"
     ]
    },
    {
     "name": "stdout",
     "output_type": "stream",
     "text": [
      "\n",
      "we got 1795 songs\n"
     ]
    },
    {
     "name": "stderr",
     "output_type": "stream",
     "text": [
      "\n"
     ]
    }
   ],
   "source": [
    "l_list = location_list(playlist_dir)\n",
    "# print(l_list[\"dev\"][:5])\n",
    "\n",
    "db = song_db(db_dir)\n",
    "# print(db[:10])\n",
    "\n",
    "s_list = location_list_to_song_list(db, l_list)\n",
    "# print(s_list[\"dev\"][:5])"
   ]
  },
  {
   "cell_type": "code",
   "execution_count": 6,
   "metadata": {},
   "outputs": [],
   "source": [
    "def extract_tags(f, args, name, browser_position=0):\n",
    "    def map_songs_to_location_list(songs):\n",
    "        def f(entry):\n",
    "            return entry.location\n",
    "        return list(map(f, songs))\n",
    "\n",
    "    def location_list_to_str(location_list):\n",
    "        return \"\\n\".join([\"    <location>\"+location+\"</location>\" for location in location_list])\n",
    "    \n",
    "    prefix = \"  <playlist name=\\\"{}\\\" show-browser=\\\"false\\\" browser-position=\\\"{}\\\" search-type=\\\"search-match\\\" type=\\\"static\\\">\\n\".format(name, browser_position)\n",
    "    suffix = \"\\n  </playlist>\"\n",
    "    return prefix+location_list_to_str(map_songs_to_location_list(f(*args)))+suffix\n",
    "\n"
   ]
  },
  {
   "cell_type": "code",
   "execution_count": 14,
   "metadata": {},
   "outputs": [
    {
     "name": "stdout",
     "output_type": "stream",
     "text": [
      "/home/koke_cacao/Music/rhythmbox/backup/playlists-2021-04-15.xml already exists!\n",
      "/home/koke_cacao/Music/rhythmbox/backup/playlists-2021-04-15.xml already exists!\n",
      "./playlists.xml already exists!\n"
     ]
    }
   ],
   "source": [
    "### CLIENT CODE ###\n",
    "\n",
    "def filter_match_songs_genre(genre, song_objects):\n",
    "    def f(entry):\n",
    "        return entry.genre == genre\n",
    "    return list(filter(f, song_objects))\n",
    "\n",
    "def filter_contain_songs_genre(genre, song_objects):\n",
    "    def f(entry):\n",
    "        return genre in entry.genre\n",
    "    return list(filter(f, song_objects))\n",
    "\n",
    "def idx(song_objects):\n",
    "    return song_objects\n",
    "\n",
    "# backup\n",
    "from shutil import copy2\n",
    "from datetime import date\n",
    "from os import path\n",
    "\n",
    "playlists_dest = \"/home/koke_cacao/Music/rhythmbox/backup/playlists-{}.xml\".format(date.today().strftime(\"%Y-%m-%d\"))\n",
    "rhythmdb_dest = \"/home/koke_cacao/Music/rhythmbox/backup/rhythmdb-{}.xml\".format(date.today().strftime(\"%Y-%m-%d\"))\n",
    "\n",
    "if not path.exists(playlists_dest):\n",
    "    copy2(\"/home/koke_cacao/.local/share/rhythmbox/playlists.xml\", playlists_dest)\n",
    "else:\n",
    "    print(\"{} already exists!\".format(playlists_dest))\n",
    "\n",
    "if not path.exists(rhythmdb_dest):\n",
    "    copy2(\"/home/koke_cacao/.local/share/rhythmbox/rhythmdb.xml\", rhythmdb_dest)\n",
    "else:\n",
    "    print(\"{} already exists!\".format(playlists_dest))\n",
    "\n",
    "jp_str = extract_tags(filter_contain_songs_genre, (\"jp;\", s_list[\"dev\"]), \"jp\")\n",
    "zh_str = extract_tags(filter_contain_songs_genre, (\"zh;\", s_list[\"dev\"]), \"zh\")\n",
    "en_str = extract_tags(filter_contain_songs_genre, (\"en;\", s_list[\"dev\"]), \"en\")\n",
    "am_str = extract_tags(filter_contain_songs_genre, (\"em;\", s_list[\"dev\"]), \"em\")\n",
    "all_str = extract_tags(idx, (s_list[\"dev\"],), \"dev\")\n",
    "\n",
    "a, b = template(playlist_dir)\n",
    "result = a+(\"\\n\".join([jp_str, zh_str, en_str, am_str, all_str]))+b\n",
    "\n",
    "if not path.exists(\"./playlists.xml\"):\n",
    "    with open(\"./playlists.xml\", \"x\") as f:\n",
    "        f.write(result)\n",
    "        f.close()\n",
    "else:\n",
    "    print(\"./playlists.xml already exists! Delete if you want to generate a new one!\")"
   ]
  },
  {
   "cell_type": "code",
   "execution_count": null,
   "metadata": {},
   "outputs": [],
   "source": []
  }
 ],
 "metadata": {
  "kernelspec": {
   "display_name": "Python 3",
   "language": "python",
   "name": "python3"
  },
  "language_info": {
   "codemirror_mode": {
    "name": "ipython",
    "version": 3
   },
   "file_extension": ".py",
   "mimetype": "text/x-python",
   "name": "python",
   "nbconvert_exporter": "python",
   "pygments_lexer": "ipython3",
   "version": "3.6.7"
  }
 },
 "nbformat": 4,
 "nbformat_minor": 2
}
