{
 "cells": [
  {
   "cell_type": "markdown",
   "metadata": {},
   "source": [
    "# Play List Processing"
   ]
  },
  {
   "cell_type": "markdown",
   "metadata": {},
   "source": [
    "## Settings"
   ]
  },
  {
   "cell_type": "code",
   "execution_count": 1,
   "metadata": {},
   "outputs": [],
   "source": [
    "import re\n",
    "from tqdm import tqdm\n",
    "\n",
    "# Settings\n",
    "playlist_dir = \"/home/koke_cacao/.local/share/rhythmbox/playlists.xml\"\n",
    "db_dir = \"/home/koke_cacao/.local/share/rhythmbox/rhythmdb.xml\"\n",
    "\n",
    "# Global Storage\n",
    "playlist_texts = None\n",
    "\n",
    "def property_regexp(name):\n",
    "    # find property\n",
    "    # find name in <playlist name=\"dev\" show-browser=\"false\" search-type=\"search-match\" type=\"static\">\n",
    "    return r\"(?<= {}=\\\")\\w*(?=\\\"( |>))\".format(name)\n",
    "\n",
    "def surounding_regexp(name):\n",
    "    # find one line surounding\n",
    "    # <location>file:xxx.mp4</location>\n",
    "    return r\"(?<=<{}>).*(?=<\\/{}>)\".format(name, name)\n",
    "\n",
    "def block_regexp(name):\n",
    "    return r\"<{}.*>[\\s\\S]*?<\\/{}>\".format(name, name)"
   ]
  },
  {
   "cell_type": "markdown",
   "metadata": {},
   "source": [
    "## Functions"
   ]
  },
  {
   "cell_type": "code",
   "execution_count": 2,
   "metadata": {},
   "outputs": [],
   "source": [
    "# read playlist\n",
    "\n",
    "def location_list(file):\n",
    "    d = dict()\n",
    "    \n",
    "    with open(file, \"r\") as f:\n",
    "        text = f.read()\n",
    "        # find all static playlist\n",
    "        playlist_texts = re.findall(r\"<playlist name=\\\".*\\\".*?type=\\\"static\\\">\\n    <location>[\\s\\S]*?<\\/playlist>\\n\", text)\n",
    "\n",
    "    for playlist_text in tqdm(playlist_texts):\n",
    "        lines = playlist_text.split(\"\\n\")\n",
    "        name = re.search(property_regexp(\"name\"), lines[0]).group()\n",
    "        print(\"\\nthrow away the following lines in {}:\".format(name))\n",
    "        print(\"- {}\".format(lines[0]))\n",
    "        print(\"- {}\".format(lines[-1]))\n",
    "        print(\"- {}\".format(lines[-2]))\n",
    "        lines = lines[1:-2]\n",
    "        lines = [re.search(surounding_regexp(\"location\"), l).group() for l in lines if re.search(surounding_regexp(\"location\"), l)]\n",
    "        d[name] = lines\n",
    "    print(\"\\ndetected playlist: {}\".format(d.keys()))\n",
    "    return d\n",
    "\n",
    "\n",
    "def location_list_to_song_list(db, location_list):\n",
    "    song_dict = dict()\n",
    "    \n",
    "    def map_playlist_to_songs(db, playlist):\n",
    "        def f(entry):\n",
    "            for song in db:\n",
    "                if song.location == entry: return song\n",
    "            raise Exception(\"no such song in db\")\n",
    "        return list(map(f, playlist))\n",
    "\n",
    "    for key, value in location_list.items():\n",
    "        song_dict[key] = map_playlist_to_songs(db, value)\n",
    "    return song_dict"
   ]
  },
  {
   "cell_type": "code",
   "execution_count": 3,
   "metadata": {},
   "outputs": [],
   "source": [
    "# read playlist template\n",
    "\n",
    "def template(file):\n",
    "    \"\"\"\n",
    "    ENSURES: template(file) => (a, b) where\n",
    "             a+[playlists]+b can be a good playlist file\n",
    "    \"\"\"\n",
    "    r = None\n",
    "    with open(file, \"r\") as f:\n",
    "        regex = re.compile(r\"<playlist name=\\\".*\\\".*?type=\\\"static\\\">\\n    <location>[\\s\\S]*?<\\/playlist>\\n\")\n",
    "        r = regex.sub(\"[REPLACED]\\n\", f.read())\n",
    "    r = r.split(\"[REPLACED]\\n\")\n",
    "    return (r[0], r[-1])"
   ]
  },
  {
   "cell_type": "code",
   "execution_count": 4,
   "metadata": {},
   "outputs": [],
   "source": [
    "# Read song database\n",
    "\n",
    "class Song:\n",
    "    def __init__(self, title, genre=None,\n",
    "                 artist=None, album=None,\n",
    "                 duration=None, file_size=None,\n",
    "                 location=None, mtime=None,\n",
    "                 first_seen=None, last_seen=None,\n",
    "                 rating=None, play_count=None,\n",
    "                 last_played=None, date=None,\n",
    "                 media_type=None, composer=None):\n",
    "        self.title = title\n",
    "        self.genre = genre\n",
    "        self.artist = artist\n",
    "        self.album = album\n",
    "        self.duration = duration\n",
    "        self.file_size = file_size\n",
    "        self.location = location\n",
    "        self.mtime = mtime\n",
    "        self.first_seen = first_seen\n",
    "        self.last_seen = last_seen\n",
    "        self.rating = rating\n",
    "        self.play_count = play_count\n",
    "        self.last_played = last_played\n",
    "        self.date = date\n",
    "        self.media_type = media_type\n",
    "        self.composer = composer\n",
    "    def __repr__(self):\n",
    "        return \"{}: {}-{}\\n\".format(self.title, self.location, self.genre)\n",
    "        \n",
    "def song_db(file):\n",
    "    l = []\n",
    "    \n",
    "    with open(file, \"r\") as f:\n",
    "        text = f.read()\n",
    "        db_texts = re.findall(block_regexp(\"entry\"), text)\n",
    "        print(len(db_texts))\n",
    "        \n",
    "        for db_text in tqdm(db_texts):\n",
    "            d = dict()\n",
    "            properties = [\"title\", \"genre\",\n",
    "                      \"artist\", \"album\",\n",
    "                      \"duration\", \"file-size\",\n",
    "                      \"location\", \"mtime\",\n",
    "                      \"first-seen\", \"last-seen\",\n",
    "                      \"rating\", \"play-count\",\n",
    "                      \"last-played\", \"date\",\n",
    "                      \"media-type\", \"composer\"]\n",
    "            for p in properties:\n",
    "                if re.search(surounding_regexp(p), db_text):\n",
    "                    d[p.replace(\"-\", \"_\")] = re.search(surounding_regexp(p), db_text).group()\n",
    "                \n",
    "            song = Song(**d)\n",
    "            l.append(song)\n",
    "    print(\"\\nwe got {} songs\".format(len(l)))\n",
    "    return l"
   ]
  },
  {
   "cell_type": "markdown",
   "metadata": {},
   "source": [
    "## Read Song Lists"
   ]
  },
  {
   "cell_type": "code",
   "execution_count": 5,
   "metadata": {},
   "outputs": [
    {
     "name": "stderr",
     "output_type": "stream",
     "text": [
      "100%|██████████| 4/4 [00:00<00:00, 312.40it/s]\n",
      " 19%|█▉        | 354/1825 [00:00<00:00, 3536.54it/s]"
     ]
    },
    {
     "name": "stdout",
     "output_type": "stream",
     "text": [
      "\n",
      "throw away the following lines in dev:\n",
      "- <playlist name=\"dev\" show-browser=\"false\" browser-position=\"0\" search-type=\"search-match\" type=\"static\">\n",
      "- \n",
      "-   </playlist>\n",
      "\n",
      "throw away the following lines in en:\n",
      "- <playlist name=\"en\" show-browser=\"false\" browser-position=\"0\" search-type=\"search-match\" type=\"static\">\n",
      "- \n",
      "-   </playlist>\n",
      "\n",
      "throw away the following lines in jp:\n",
      "- <playlist name=\"jp\" show-browser=\"false\" browser-position=\"0\" search-type=\"search-match\" type=\"static\">\n",
      "- \n",
      "-   </playlist>\n",
      "\n",
      "throw away the following lines in zh:\n",
      "- <playlist name=\"zh\" show-browser=\"false\" browser-position=\"0\" search-type=\"search-match\" type=\"static\">\n",
      "- \n",
      "-   </playlist>\n",
      "\n",
      "detected playlist: dict_keys(['dev', 'en', 'jp', 'zh'])\n",
      "['file:///home/koke_cacao/Music/LuoXue/%E3%81%82%E3%81%84%E3%81%8F%E3%82%8B%E3%81%97%E3%81%84(For%20SS3A%20rearrange%20Mix%E3%82%AA%E3%83%AA%E3%82%B8%E3%83%8A%E3%83%AB%E3%83%BB%E3%82%AB%E3%83%A9%E3%82%AA%E3%82%B1)%20-%20%E3%83%AB%E3%82%A5%E3%83%86%E3%82%A3%E3%83%B3.mp3', 'file:///home/koke_cacao/Music/Other/%E8%8A%B1%E7%8E%B2,%E5%96%B5%E2%98%86%E9%85%B1,%E5%AE%B4%E5%AE%81,kinsen%20-%20%E8%AE%A9%E9%A3%8E%E5%91%8A%E8%AF%89%E4%BD%A0.flac', 'file:///home/koke_cacao/Music/Other/%E9%99%88%E8%87%B4%E9%80%B8,HOYO-MiX%20-%20Abiding%20Chills%20%E5%AF%92%E6%BD%AE%E7%9A%84%E4%BD%99%E5%93%8D.flac', 'file:///home/koke_cacao/Music/Other/%E9%99%88%E8%87%B4%E9%80%B8,HOYO-MiX%20-%20Ad%20Oblivione%20%E9%81%97%E5%BF%98%E7%9A%84%E6%B5%81%E9%A3%8E.flac', 'file:///home/koke_cacao/Music/Other/%E9%99%88%E8%87%B4%E9%80%B8,HOYO-MiX%20-%20Chattering%20Snowflakes%20%E9%9C%9C%E7%9A%84%E7%B2%BE%E7%81%B5.flac']\n",
      "1825\n"
     ]
    },
    {
     "name": "stderr",
     "output_type": "stream",
     "text": [
      "100%|██████████| 1825/1825 [00:00<00:00, 4411.03it/s]"
     ]
    },
    {
     "name": "stdout",
     "output_type": "stream",
     "text": [
      "\n",
      "we got 1825 songs\n",
      "[&#x6708;&#x306B;&#x53E2;&#x96F2;&#x83EF;&#x306B;&#x98A8;: file:///home/koke_cacao/Music/LuoXue/%E6%9C%88%E3%81%AB%E5%8F%A2%E9%9B%B2%E8%8F%AF%E3%81%AB%E9%A2%A8%20-%20%E6%A3%AE%E6%B0%B8%E7%9C%9F%E7%94%B1%E7%BE%8E.mp3-jp; touhou;\n",
      ", Minecraft-23-Ballad_of_the_Cats.m4a: file:///home/koke_cacao/Music/Other/Minecraft-23-Ballad_of_the_Cats.m4a-mc; am; set;\n",
      ", Minecraft-15-Wet_Hands.m4a: file:///home/koke_cacao/Music/Other/Minecraft-15-Wet_Hands.m4a-mc; am; set;\n",
      ", Minecraft-41-Mall.m4a: file:///home/koke_cacao/Music/Other/Minecraft-41-Mall.m4a-mc; am; set;\n",
      ", Minecraft-44-Strad.m4a: file:///home/koke_cacao/Music/Other/Minecraft-44-Strad.m4a-mc; am; set;\n",
      ", Minecraft-51-Moog_City.m4a: file:///home/koke_cacao/Music/Other/Minecraft-51-Moog_City.m4a-mc; am; set;\n",
      ", Minecraft-14-Dry_Hands.m4a: file:///home/koke_cacao/Music/Other/Minecraft-14-Dry_Hands.m4a-mc; am; set;\n",
      ", Minecraft-16-Mice_on_Venus.m4a: file:///home/koke_cacao/Music/Other/Minecraft-16-Mice_on_Venus.m4a-mc; am; set;\n",
      ", Minecraft-31-Blind_Spots.m4a: file:///home/koke_cacao/Music/Other/Minecraft-31-Blind_Spots.m4a-mc; am; set;\n",
      ", Minecraft-13-Oxygene.m4a: file:///home/koke_cacao/Music/Other/Minecraft-13-Oxygene.m4a-mc; am; set;\n",
      "]\n",
      "[&#x3042;&#x3044;&#x304F;&#x308B;&#x3057;&#x3044;(For SS3A rearrange Mix|&#x30AA;&#x30EA;&#x30B8;&#x30CA;&#x30EB;&#x30FB;&#x30AB;&#x30E9;&#x30AA;&#x30B1;): file:///home/koke_cacao/Music/LuoXue/%E3%81%82%E3%81%84%E3%81%8F%E3%82%8B%E3%81%97%E3%81%84(For%20SS3A%20rearrange%20Mix%E3%82%AA%E3%83%AA%E3%82%B8%E3%83%8A%E3%83%AB%E3%83%BB%E3%82%AB%E3%83%A9%E3%82%AA%E3%82%B1)%20-%20%E3%83%AB%E3%82%A5%E3%83%86%E3%82%A3%E3%83%B3.mp3-Unknown\n",
      ", &#x8BA9;&#x98CE;&#x544A;&#x8BC9;&#x4F60;: file:///home/koke_cacao/Music/Other/%E8%8A%B1%E7%8E%B2,%E5%96%B5%E2%98%86%E9%85%B1,%E5%AE%B4%E5%AE%81,kinsen%20-%20%E8%AE%A9%E9%A3%8E%E5%91%8A%E8%AF%89%E4%BD%A0.flac-Unknown\n",
      ", Abiding Chills &#x5BD2;&#x6F6E;&#x7684;&#x4F59;&#x54CD;: file:///home/koke_cacao/Music/Other/%E9%99%88%E8%87%B4%E9%80%B8,HOYO-MiX%20-%20Abiding%20Chills%20%E5%AF%92%E6%BD%AE%E7%9A%84%E4%BD%99%E5%93%8D.flac-Unknown\n",
      ", Ad Oblivione &#x9057;&#x5FD8;&#x7684;&#x6D41;&#x98CE;: file:///home/koke_cacao/Music/Other/%E9%99%88%E8%87%B4%E9%80%B8,HOYO-MiX%20-%20Ad%20Oblivione%20%E9%81%97%E5%BF%98%E7%9A%84%E6%B5%81%E9%A3%8E.flac-Unknown\n",
      ", Chattering Snowflakes &#x971C;&#x7684;&#x7CBE;&#x7075;: file:///home/koke_cacao/Music/Other/%E9%99%88%E8%87%B4%E9%80%B8,HOYO-MiX%20-%20Chattering%20Snowflakes%20%E9%9C%9C%E7%9A%84%E7%B2%BE%E7%81%B5.flac-Unknown\n",
      "]\n"
     ]
    },
    {
     "name": "stderr",
     "output_type": "stream",
     "text": [
      "\n"
     ]
    }
   ],
   "source": [
    "l_list = location_list(playlist_dir)\n",
    "print(l_list[\"dev\"][:5])\n",
    "\n",
    "db = song_db(db_dir)\n",
    "print(db[:10])\n",
    "\n",
    "s_list = location_list_to_song_list(db, l_list)\n",
    "print(s_list[\"dev\"][:5])"
   ]
  },
  {
   "cell_type": "markdown",
   "metadata": {},
   "source": [
    "## Client Code"
   ]
  },
  {
   "cell_type": "code",
   "execution_count": 6,
   "metadata": {},
   "outputs": [],
   "source": [
    "### CLIENT CODE ###\n",
    "def extract_tags(f, args, name, browser_position=0):\n",
    "    def map_songs_to_location_list(songs):\n",
    "        def f(entry):\n",
    "            return entry.location\n",
    "        return list(map(f, songs))\n",
    "\n",
    "    def location_list_to_str(location_list):\n",
    "        return \"\\n\".join([\"    <location>\"+location+\"</location>\" for location in location_list])\n",
    "    \n",
    "    prefix = \"  <playlist name=\\\"{}\\\" show-browser=\\\"false\\\" browser-position=\\\"{}\\\" search-type=\\\"search-match\\\" type=\\\"static\\\">\\n\".format(name, browser_position)\n",
    "    suffix = \"\\n  </playlist>\"\n",
    "    return prefix+location_list_to_str(map_songs_to_location_list(f(*args)))+suffix\n",
    "\n",
    "def filter_match_songs_genre(genre, song_objects):\n",
    "    def f(entry):\n",
    "        return entry.genre == genre\n",
    "    return list(filter(f, song_objects))\n",
    "\n",
    "def filter_contain_songs_genre(genre, song_objects):\n",
    "    def f(entry):\n",
    "        return genre in entry.genre\n",
    "    return list(filter(f, song_objects))\n",
    "\n",
    "def idx(song_objects):\n",
    "    return song_objects\n"
   ]
  },
  {
   "cell_type": "markdown",
   "metadata": {},
   "source": [
    "### Backup"
   ]
  },
  {
   "cell_type": "code",
   "execution_count": 7,
   "metadata": {},
   "outputs": [],
   "source": [
    "# backup\n",
    "from shutil import copy2\n",
    "from datetime import date\n",
    "from os import path\n",
    "\n",
    "playlists_dest = \"/home/koke_cacao/Music/rhythmbox/backup/playlists-{}.xml\".format(date.today().strftime(\"%Y-%m-%d\"))\n",
    "rhythmdb_dest = \"/home/koke_cacao/Music/rhythmbox/backup/rhythmdb-{}.xml\".format(date.today().strftime(\"%Y-%m-%d\"))\n",
    "\n",
    "if not path.exists(playlists_dest):\n",
    "    copy2(\"/home/koke_cacao/.local/share/rhythmbox/playlists.xml\", playlists_dest)\n",
    "else:\n",
    "    print(\"Backup {} already exists! Delete before proceed.\".format(playlists_dest))\n",
    "\n",
    "if not path.exists(rhythmdb_dest):\n",
    "    copy2(\"/home/koke_cacao/.local/share/rhythmbox/rhythmdb.xml\", rhythmdb_dest)\n",
    "else:\n",
    "    print(\"Backup {} already exists! Delete before proceed.\".format(playlists_dest))"
   ]
  },
  {
   "cell_type": "markdown",
   "metadata": {},
   "source": [
    "### Create List"
   ]
  },
  {
   "cell_type": "code",
   "execution_count": 14,
   "metadata": {},
   "outputs": [
    {
     "name": "stdout",
     "output_type": "stream",
     "text": [
      "./playlists.xml generate successful. Please copy the file to /home/koke_cacao/.local/share/rhythmbox/ manually\n"
     ]
    }
   ],
   "source": [
    "# choose either `filter_contain_songs_genre` or `filter_match_songs_genre`, or `idx`(do nothing to it but contain in output)\n",
    "# follow by one input tuple such as containing ([TagName], s_list[ListName])\n",
    "# follow by new tag name\n",
    "jp_str = extract_tags(filter_contain_songs_genre, (\"jp;\", s_list[\"dev\"]), \"jp\")\n",
    "zh_str = extract_tags(filter_contain_songs_genre, (\"zh;\", s_list[\"dev\"]), \"zh\")\n",
    "en_str = extract_tags(filter_contain_songs_genre, (\"en;\", s_list[\"dev\"]), \"en\")\n",
    "am_str = extract_tags(filter_contain_songs_genre, (\"am;\", s_list[\"dev\"]), \"am\")\n",
    "all_str = extract_tags(idx, (s_list[\"dev\"],), \"dev\")\n",
    "\n",
    "a, b = template(playlist_dir)\n",
    "result = a+(\"\\n\".join([jp_str, zh_str, en_str, am_str, all_str]))+b\n",
    "\n",
    "if not path.exists(\"./playlists.xml\"):\n",
    "    with open(\"./playlists.xml\", \"x\") as f:\n",
    "        f.write(result)\n",
    "        f.close()\n",
    "    print(\"./playlists.xml generate successful. Please copy the file to /home/koke_cacao/.local/share/rhythmbox/ manually\")\n",
    "else:\n",
    "    print(\"./playlists.xml already exists! Delete if you want to generate a new one!\")"
   ]
  },
  {
   "cell_type": "code",
   "execution_count": null,
   "metadata": {},
   "outputs": [],
   "source": []
  }
 ],
 "metadata": {
  "kernelspec": {
   "display_name": "Python 3",
   "language": "python",
   "name": "python3"
  },
  "language_info": {
   "codemirror_mode": {
    "name": "ipython",
    "version": 3
   },
   "file_extension": ".py",
   "mimetype": "text/x-python",
   "name": "python",
   "nbconvert_exporter": "python",
   "pygments_lexer": "ipython3",
   "version": "3.6.7"
  }
 },
 "nbformat": 4,
 "nbformat_minor": 2
}
